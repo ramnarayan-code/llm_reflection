{
  "nbformat": 4,
  "nbformat_minor": 0,
  "metadata": {
    "colab": {
      "provenance": [],
      "authorship_tag": "ABX9TyM+pHWdbJFAIHBmL3LJEUSZ",
      "include_colab_link": true
    },
    "kernelspec": {
      "name": "python3",
      "display_name": "Python 3"
    },
    "language_info": {
      "name": "python"
    }
  },
  "cells": [
    {
      "cell_type": "markdown",
      "metadata": {
        "id": "view-in-github",
        "colab_type": "text"
      },
      "source": [
        "<a href=\"https://colab.research.google.com/github/ramnarayan-code/llm_reflection/blob/main/langgraph_agents.ipynb\" target=\"_parent\"><img src=\"https://colab.research.google.com/assets/colab-badge.svg\" alt=\"Open In Colab\"/></a>"
      ]
    },
    {
      "cell_type": "code",
      "execution_count": 1,
      "metadata": {
        "id": "3RyD2uydP8yR"
      },
      "outputs": [],
      "source": [
        "%%capture --no-stderr\n",
        "%pip install -U langchain langgraph langchain_openai langchain_experimental langsmith pandas"
      ]
    },
    {
      "cell_type": "code",
      "source": [
        "import os\n",
        "os.environ['OPENAI_API_KEY'] = ''\n",
        "# https://medium.com/@anuragmishra_27746/future-of-coding-multi-agent-llm-framework-using-langgraph-092da9493663"
      ],
      "metadata": {
        "id": "I2hbwxWDXNNv"
      },
      "execution_count": 3,
      "outputs": []
    },
    {
      "cell_type": "code",
      "source": [
        "import os\n",
        "from langchain.tools import DuckDuckGoSearchRun\n",
        "from langchain import hub\n",
        "from langchain.agents import create_openai_functions_agent\n",
        "from langchain_openai import ChatOpenAI\n",
        "from langgraph.prebuilt import create_agent_executor\n",
        "from langchain_core.pydantic_v1 import BaseModel\n",
        "from langchain.chains.openai_functions import create_structured_output_runnable\n",
        "from langchain_core.prompts import ChatPromptTemplate\n",
        "from langchain_core.pydantic_v1 import BaseModel, Field\n",
        "from typing import Annotated, Any, Dict, Optional, Sequence, TypedDict, List, Tuple\n",
        "import operator\n"
      ],
      "metadata": {
        "id": "ua69NCrbZYGV"
      },
      "execution_count": 6,
      "outputs": []
    },
    {
      "cell_type": "code",
      "source": [
        "llm=ChatOpenAI()"
      ],
      "metadata": {
        "id": "bqgkf739bC9m"
      },
      "execution_count": 7,
      "outputs": []
    },
    {
      "cell_type": "code",
      "source": [
        "from langchain.chains.openai_functions import create_structured_output_runnable\n",
        "from langchain_core.prompts import ChatPromptTemplate\n",
        "\n",
        "class ProductOwner(BaseModel):\n",
        "\n",
        "    user_stories: str = Field(\n",
        "        description=\"Detailed user stories\"\n",
        "    )\n",
        "product_owner_prompt = ChatPromptTemplate.from_template(\n",
        "    '''\n",
        "    **Role**: You are a product owner. You need to create user stories\n",
        "**Task**: As a product owner, you are required to create 5 user stories based on the use case\n",
        "\n",
        "**Instructions**:\n",
        "1. **Understand and Clarify**: Make sure you understand the use case.\n",
        "2. **Define user story and assign priority**: define user story in the below format following the agile standards and assign the priority level out of the values: high, medium, low.\n",
        "*FORMAT*\n",
        "User story:\n",
        "Priority:\n",
        "\n",
        "*USE CASE*\n",
        "{use_case}\n",
        "\n",
        "'''\n",
        ")\n",
        "product_owner_agent = create_structured_output_runnable(\n",
        "    ProductOwner, llm, product_owner_prompt\n",
        ")\n"
      ],
      "metadata": {
        "id": "cGI2UOTBbHfV",
        "outputId": "bed62f01-a8ae-434c-b89e-b629aa7dee2a",
        "colab": {
          "base_uri": "https://localhost:8080/"
        }
      },
      "execution_count": 8,
      "outputs": [
        {
          "output_type": "stream",
          "name": "stderr",
          "text": [
            "/usr/local/lib/python3.10/dist-packages/langchain_core/_api/deprecation.py:119: LangChainDeprecationWarning: LangChain has introduced a method called `with_structured_output` that is available on ChatModels capable of tool calling. You can read more about the method here: https://python.langchain.com/docs/modules/model_io/chat/structured_output/ Please follow our extraction use case documentation for more guidelines on how to do information extraction with LLMs. https://python.langchain.com/docs/use_cases/extraction/. If you notice other issues, please provide feedback here: https://github.com/langchain-ai/langchain/discussions/18154\n",
            "  warn_deprecated(\n"
          ]
        }
      ]
    },
    {
      "cell_type": "code",
      "source": [
        "user_stories = product_owner_agent.invoke({'use_case':'Design a Video streaming platform'})\n"
      ],
      "metadata": {
        "id": "eRRg9YE6skHg"
      },
      "execution_count": 9,
      "outputs": []
    },
    {
      "cell_type": "code",
      "source": [
        "print(user_stories.user_stories)"
      ],
      "metadata": {
        "colab": {
          "base_uri": "https://localhost:8080/"
        },
        "id": "bId4dfKEtC4K",
        "outputId": "ef78fc92-da34-4db0-bd68-358e4f3e78f6"
      },
      "execution_count": 10,
      "outputs": [
        {
          "output_type": "stream",
          "name": "stdout",
          "text": [
            "User story 1: As a user, I want to be able to create a personalized profile on the video streaming platform.\n",
            "Priority: Medium\n",
            "\n",
            "User story 2: As a user, I want to search for and discover new videos based on my interests and preferences.\n",
            "Priority: High\n",
            "\n",
            "User story 3: As a user, I want to be able to create and manage playlists of my favorite videos.\n",
            "Priority: Medium\n",
            "\n",
            "User story 4: As a user, I want to receive personalized recommendations for videos based on my viewing history.\n",
            "Priority: High\n",
            "\n",
            "User story 5: As a user, I want to be able to like, comment, and share videos with other users on the platform.\n",
            "Priority: High\n"
          ]
        }
      ]
    },
    {
      "cell_type": "code",
      "source": [
        "class Developer(BaseModel):\n",
        "    \"\"\"Plan to follow in future\"\"\"\n",
        "\n",
        "    technical_solution: str = Field(\n",
        "        description=\"Detailed optmized error-free Python code on the provided requirements\"\n",
        "    )\n",
        "\n",
        "\n",
        "from langchain.chains.openai_functions import create_structured_output_runnable\n",
        "from langchain_core.prompts import ChatPromptTemplate\n",
        "\n",
        "developer_prompt = ChatPromptTemplate.from_template(\n",
        "    '''\n",
        "    **Role**: You are a software architect. You need to assess the user stories\n",
        "**Task**: As an architect, you need to assess the user stories and provide the technical feasibility report\n",
        "\n",
        "**Instructions**:\n",
        "1. **Understand and Clarify**: Make sure you understand the use case and its related user stories.\n",
        "2. **Propose technical solution**: propose a detailed technical solution for the use case and also define the potential technology stack\n",
        "in the below output format.\n",
        "*FORMAT*\n",
        "High level Technical Solution: <Proposal>\n",
        "Tech Stack: <tech-stack>\n",
        "3. **Define estimates**: estimate the efforts to complete the implementation of the proposed technical solution in the below output format:\n",
        "*FORMAT*\n",
        "ETA: <eta>\n",
        "\n",
        "*USE CASE*\n",
        "{use_case}\n",
        "\n",
        "*USE STORIES*\n",
        "{user_stories}\n",
        "'''\n",
        ")\n",
        "developer_agent = create_structured_output_runnable(\n",
        "    Developer, llm, developer_prompt\n",
        ")\n"
      ],
      "metadata": {
        "id": "kTWJfag9rWFb"
      },
      "execution_count": 27,
      "outputs": []
    },
    {
      "cell_type": "code",
      "source": [
        "developer_report = developer_agent.invoke({'user_stories':user_stories.user_stories, 'use_case':'Design a Video streaming platform'})\n"
      ],
      "metadata": {
        "id": "hE97yCvM0yjt"
      },
      "execution_count": 28,
      "outputs": []
    },
    {
      "cell_type": "code",
      "source": [
        "print(developer_report.technical_solution)"
      ],
      "metadata": {
        "id": "Jj3yrbPw0_4L",
        "outputId": "507e0680-a9d7-4b59-92df-99d627c40de4",
        "colab": {
          "base_uri": "https://localhost:8080/"
        }
      },
      "execution_count": 30,
      "outputs": [
        {
          "output_type": "stream",
          "name": "stdout",
          "text": [
            "\n"
          ]
        }
      ]
    },
    {
      "cell_type": "code",
      "source": [
        "class AgentState(TypedDict):\n",
        "    use_case: str\n",
        "    user_stories: str\n",
        "    technical_solution: str"
      ],
      "metadata": {
        "id": "L-5_Fcd1bMMy"
      },
      "execution_count": 31,
      "outputs": []
    },
    {
      "cell_type": "code",
      "source": [
        "def product_owner(state):\n",
        "    print(f'Entering PO')\n",
        "    use_case = state['use_case']\n",
        "    po_outcome = product_owner_agent.invoke({'use_case':use_case})\n",
        "    return {'user_stories':po_outcome.user_stories}\n",
        "\n",
        "def developer(state):\n",
        "    print(f'Entering Dev')\n",
        "    user_stories = state['user_stories']\n",
        "    use_case = state['use_case']\n",
        "    developer_outcome = developer_agent.invoke({'user_stories':user_stories, 'use_case':use_case})\n",
        "    return {'technical_solution':developer_outcome.technical_solution}"
      ],
      "metadata": {
        "id": "RDmx1TTquiFb"
      },
      "execution_count": 32,
      "outputs": []
    },
    {
      "cell_type": "code",
      "source": [
        "from langgraph.graph import END, StateGraph\n",
        "\n",
        "workflow = StateGraph(AgentState)\n",
        "\n",
        "# Define the nodes\n",
        "workflow.add_node(\"product_owner\", product_owner)\n",
        "workflow.add_node(\"developer\", developer)\n",
        "\n",
        "# Build graph\n",
        "workflow.set_entry_point(\"product_owner\")\n",
        "workflow.add_edge(\"product_owner\", \"developer\")\n",
        "workflow.add_edge(\"developer\", END)\n",
        "\n",
        "app = workflow.compile()\n"
      ],
      "metadata": {
        "id": "LaiHgjMNbPgN"
      },
      "execution_count": 33,
      "outputs": []
    },
    {
      "cell_type": "code",
      "source": [
        "from langchain_core.messages import HumanMessage\n",
        "\n",
        "for s in app.stream(\n",
        "    {\"messages\": [HumanMessage(content=\"Design a Video streaming platform\")]},\n",
        "    {\"recursion_limit\": 100},\n",
        "):\n",
        "    if \"__end__\" not in s:\n",
        "        print(s)\n",
        "        print(\"----\")"
      ],
      "metadata": {
        "id": "nT9OfbZ9wldD",
        "outputId": "d1d7da2d-9728-41ac-edb7-e5a00b746f79",
        "colab": {
          "base_uri": "https://localhost:8080/"
        }
      },
      "execution_count": 34,
      "outputs": [
        {
          "output_type": "stream",
          "name": "stdout",
          "text": [
            "Entering PO\n",
            "{'product_owner': {'user_stories': 'User story: As a user, I want to be able to sign up for an account on the platform.\\nPriority: high\\n\\nUser story: As a user, I want to create a profile with my personal information.\\nPriority: medium\\n\\nUser story: As a user, I want to search for products based on specific criteria.\\nPriority: high\\n\\nUser story: As a user, I want to add products to my cart for purchase.\\nPriority: high\\n\\nUser story: As a user, I want to be able to checkout and complete my purchase.\\nPriority: high'}}\n",
            "----\n",
            "Entering Dev\n",
            "{'developer': {'technical_solution': 'High level Technical Solution: Develop a web application with user authentication, profile management, product search, cart functionality, and checkout process.\\nTech Stack: Frontend - React.js, Backend - Node.js, Database - MongoDB, Authentication - JWT'}}\n",
            "----\n"
          ]
        }
      ]
    }
  ]
}