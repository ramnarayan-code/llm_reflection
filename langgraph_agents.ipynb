{
  "nbformat": 4,
  "nbformat_minor": 0,
  "metadata": {
    "colab": {
      "provenance": [],
      "authorship_tag": "ABX9TyNXaUf2nzpLN5dzAn5YKGpR",
      "include_colab_link": true
    },
    "kernelspec": {
      "name": "python3",
      "display_name": "Python 3"
    },
    "language_info": {
      "name": "python"
    }
  },
  "cells": [
    {
      "cell_type": "markdown",
      "metadata": {
        "id": "view-in-github",
        "colab_type": "text"
      },
      "source": [
        "<a href=\"https://colab.research.google.com/github/ramnarayan-code/llm_reflection/blob/main/langgraph_agents.ipynb\" target=\"_parent\"><img src=\"https://colab.research.google.com/assets/colab-badge.svg\" alt=\"Open In Colab\"/></a>"
      ]
    },
    {
      "cell_type": "markdown",
      "source": [
        "# Install the required packages"
      ],
      "metadata": {
        "id": "Zoildq02yzeM"
      }
    },
    {
      "cell_type": "code",
      "execution_count": 109,
      "metadata": {
        "id": "3RyD2uydP8yR"
      },
      "outputs": [],
      "source": [
        "%%capture --no-stderr\n",
        "%pip install -U langchain langgraph langchain_openai langchain_experimental langsmith pandas pygraphviz\n"
      ]
    },
    {
      "cell_type": "code",
      "source": [
        "# Ref: https://medium.com/@anuragmishra_27746/future-of-coding-multi-agent-llm-framework-using-langgraph-092da9493663"
      ],
      "metadata": {
        "id": "EPifZZXxtUXY"
      },
      "execution_count": 110,
      "outputs": []
    },
    {
      "cell_type": "markdown",
      "source": [
        "# Import packages and define LLM"
      ],
      "metadata": {
        "id": "_bnYafr-y7WF"
      }
    },
    {
      "cell_type": "code",
      "source": [
        "import os\n",
        "import operator\n",
        "from typing import Annotated, Any, Dict, Optional, Sequence, TypedDict, List, Tuple\n",
        "\n",
        "from langchain_core.pydantic_v1 import BaseModel\n",
        "from langchain_core.prompts import ChatPromptTemplate\n",
        "from langchain_core.pydantic_v1 import BaseModel, Field\n",
        "from langchain_core.messages import HumanMessage\n",
        "from langchain.chains.openai_functions import create_structured_output_runnable\n",
        "from langchain_openai import ChatOpenAI\n",
        "from langgraph.graph import END, StateGraph\n",
        "\n",
        "import os\n",
        "os.environ['OPENAI_API_KEY'] = '<OPENAI-API-KEY>'\n",
        "\n",
        "llm=ChatOpenAI()"
      ],
      "metadata": {
        "id": "ua69NCrbZYGV"
      },
      "execution_count": 112,
      "outputs": []
    },
    {
      "cell_type": "markdown",
      "source": [
        "# Definition of Product Owner Agent\n"
      ],
      "metadata": {
        "id": "8-BESiLrxUgz"
      }
    },
    {
      "cell_type": "code",
      "source": [
        "class ProductOwner(BaseModel):\n",
        "    user_stories: str = Field(\n",
        "        description=\"PO defined user stories\"\n",
        "    )\n",
        "\n",
        "product_owner_prompt = ChatPromptTemplate.from_template(\n",
        "    '''\n",
        "    **Role**: You are a product owner. You need to create user stories\n",
        "**Task**: As a product owner, you are required to create 5 user stories based on the use case\n",
        "\n",
        "**Instructions**:\n",
        "1. **Understand and Clarify**: Make sure you understand the use case\n",
        "2. **Define user story and assign priority**: define user story in the below format following the agile standards\n",
        "*FORMAT*\n",
        "User story:\n",
        "\n",
        "*USE CASE*\n",
        "{use_case}\n",
        "\n",
        "'''\n",
        ")\n",
        "product_owner_agent = create_structured_output_runnable(\n",
        "    ProductOwner, llm, product_owner_prompt\n",
        ")\n"
      ],
      "metadata": {
        "id": "cGI2UOTBbHfV"
      },
      "execution_count": 113,
      "outputs": []
    },
    {
      "cell_type": "markdown",
      "source": [
        "# Definition of Developer Agent\n"
      ],
      "metadata": {
        "id": "zrT2T5aRxhSY"
      }
    },
    {
      "cell_type": "code",
      "source": [
        "class Developer(BaseModel):\n",
        "    dev_team_proposal: str = Field(\n",
        "        description=\"Developer proposal for the use case implementation\"\n",
        "    )\n",
        "\n",
        "developer_prompt = ChatPromptTemplate.from_template(\n",
        "    '''\n",
        "    **Role**: You are a developer. You need to assess the user stories\n",
        "**Task**: As a developer, you need to assess the user stories and provide the technical proposal\n",
        "\n",
        "**Instructions**:\n",
        "1. **Understand and Clarify**: Make sure you understand the use case and its related user stories\n",
        "2. **Design the system**: Design a system in the below output format for the use case defining the architecture pattern, defining the components, define the potential technology stack and estimate the efforts\n",
        "*FORMAT*\n",
        "Architecture pattern:\n",
        "Components:\n",
        "Tech Stack:\n",
        "ETA:\n",
        "\n",
        "\n",
        "*USE CASE*\n",
        "{use_case}\n",
        "\n",
        "*USE STORIES*\n",
        "{po_defined_user_stories}\n",
        "'''\n",
        ")\n",
        "developer_agent = create_structured_output_runnable(\n",
        "    Developer, llm, developer_prompt\n",
        ")\n"
      ],
      "metadata": {
        "id": "kTWJfag9rWFb"
      },
      "execution_count": 114,
      "outputs": []
    },
    {
      "cell_type": "markdown",
      "source": [
        "# Langgraph based collaboration between Product owner and Developer agents"
      ],
      "metadata": {
        "id": "mV2hiAbzxtHy"
      }
    },
    {
      "cell_type": "code",
      "source": [
        "class AgentState(TypedDict):\n",
        "    use_case: str\n",
        "    po_defined_user_stories: str\n",
        "    dev_team_proposal: str"
      ],
      "metadata": {
        "id": "L-5_Fcd1bMMy"
      },
      "execution_count": 115,
      "outputs": []
    },
    {
      "cell_type": "code",
      "source": [
        "def product_owner(state):\n",
        "    print(f'Product Owner agent:')\n",
        "    use_case = state['use_case']\n",
        "    po_response = product_owner_agent.invoke({'use_case':use_case})\n",
        "    return {'po_defined_user_stories':po_response.user_stories}\n",
        "\n",
        "def developer(state):\n",
        "    print(f'Developer agent:')\n",
        "    po_defined_user_stories = state['po_defined_user_stories']\n",
        "    use_case = state['use_case']\n",
        "    developer_response = developer_agent.invoke({'po_defined_user_stories':po_defined_user_stories, 'use_case':use_case})\n",
        "    return {'dev_team_proposal':developer_response.dev_team_proposal}"
      ],
      "metadata": {
        "id": "RDmx1TTquiFb"
      },
      "execution_count": 116,
      "outputs": []
    },
    {
      "cell_type": "code",
      "source": [
        "workflow = StateGraph(AgentState)\n",
        "\n",
        "# Define the nodes\n",
        "workflow.add_node(\"product_owner\", product_owner)\n",
        "workflow.add_node(\"developer\", developer)\n",
        "\n",
        "# Build graph\n",
        "workflow.set_entry_point(\"product_owner\")\n",
        "workflow.add_edge(\"product_owner\", \"developer\")\n",
        "workflow.add_edge(\"developer\", END)\n",
        "\n",
        "app = workflow.compile()\n"
      ],
      "metadata": {
        "id": "LaiHgjMNbPgN"
      },
      "execution_count": 117,
      "outputs": []
    },
    {
      "cell_type": "markdown",
      "source": [
        "# Langgraph Structure:"
      ],
      "metadata": {
        "id": "duaIxJuwyFh6"
      }
    },
    {
      "cell_type": "code",
      "source": [
        "\n",
        "from langchain_core.runnables.graph import CurveStyle, NodeColors, MermaidDrawMethod\n",
        "from IPython.display import display, HTML, Image\n",
        "\n",
        "display(\n",
        "    Image(\n",
        "        app.get_graph().draw_mermaid_png(\n",
        "            draw_method=MermaidDrawMethod.API,\n",
        "        )\n",
        "    )\n",
        ")"
      ],
      "metadata": {
        "colab": {
          "base_uri": "https://localhost:8080/",
          "height": 319
        },
        "id": "fmvI0uaewk3G",
        "outputId": "b26525d2-e123-4c7d-8c3e-77f1dac88e54"
      },
      "execution_count": 123,
      "outputs": [
        {
          "output_type": "display_data",
          "data": {
            "image/jpeg": "[encoded data removed]",
            "text/plain": [
              "<IPython.core.display.Image object>"
            ]
          },
          "metadata": {}
        }
      ]
    },
    {
      "cell_type": "markdown",
      "source": [
        "# Interaction with the agents"
      ],
      "metadata": {
        "id": "r6MeZRlGyju9"
      }
    },
    {
      "cell_type": "code",
      "source": [
        "for stream_msg in app.stream(\n",
        "    {\"use_case\": [HumanMessage(content=\"Design a CRM system using AI\")]},\n",
        "    {\"recursion_limit\": 100},\n",
        "):\n",
        "    if \"__end__\" not in stream_msg:\n",
        "        if \"product_owner\" in stream_msg:\n",
        "          po_defined_user_stories = stream_msg[\"product_owner\"][\"po_defined_user_stories\"]\n",
        "          print(po_defined_user_stories)\n",
        "        elif \"developer\" in stream_msg:\n",
        "          dev_team_proposal = stream_msg[\"developer\"][\"dev_team_proposal\"]\n",
        "          print(dev_team_proposal)\n",
        "        print(\"----\")"
      ],
      "metadata": {
        "id": "nT9OfbZ9wldD",
        "colab": {
          "base_uri": "https://localhost:8080/"
        },
        "outputId": "a526ccd1-5afc-4b49-ecc7-1bb5c6c83f41"
      },
      "execution_count": 122,
      "outputs": [
        {
          "output_type": "stream",
          "name": "stdout",
          "text": [
            "Product Owner agent:\n",
            "User story 1: As a sales manager, I want the CRM system to automatically analyze customer data to provide insights for targeted marketing campaigns.\n",
            "User story 2: As a customer service representative, I want the CRM system to suggest personalized responses based on historical interactions with customers.\n",
            "User story 3: As a marketing analyst, I want the CRM system to predict customer behavior using AI algorithms to optimize marketing strategies.\n",
            "User story 4: As a system administrator, I want the CRM system to automate repetitive tasks such as data entry and lead scoring to improve efficiency.\n",
            "User story 5: As a business owner, I want the CRM system to generate AI-powered reports that help in making data-driven decisions for business growth.\n",
            "----\n",
            "Developer agent:\n",
            "**Technical Proposal for CRM System using AI**\n",
            "\n",
            "**Architecture pattern:**\n",
            "- The proposed architecture pattern for the CRM system is a combination of microservices and serverless computing. This architecture allows for scalability, flexibility, and cost-effectiveness.\n",
            "\n",
            "**Components:**\n",
            "1. Customer Data Analysis Service\n",
            "2. Personalized Response Recommendation Service\n",
            "3. Customer Behavior Prediction Service\n",
            "4. Task Automation Service\n",
            "5. AI-Powered Reporting Service\n",
            "\n",
            "**Tech Stack:**\n",
            "- Programming Languages: Python, JavaScript\n",
            "- Frameworks: Flask, Node.js\n",
            "- AI/ML Libraries: TensorFlow, Scikit-learn\n",
            "- Database: MongoDB\n",
            "- Cloud Services: AWS Lambda, Amazon S3\n",
            "\n",
            "**ETA:**\n",
            "- The estimated time for development and implementation of the CRM system using AI is approximately 6-8 months depending on the complexity of AI algorithms and integrations required.\n",
            "\n",
            "----\n"
          ]
        }
      ]
    },
    {
      "cell_type": "code",
      "source": [],
      "metadata": {
        "id": "mtoorckdwLRN"
      },
      "execution_count": null,
      "outputs": []
    }
  ]
}