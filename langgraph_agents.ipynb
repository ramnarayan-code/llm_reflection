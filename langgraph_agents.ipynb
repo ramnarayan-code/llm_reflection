{
  "nbformat": 4,
  "nbformat_minor": 0,
  "metadata": {
    "colab": {
      "provenance": [],
      "authorship_tag": "ABX9TyONCU2merlrLrrAfleg3j/g",
      "include_colab_link": true
    },
    "kernelspec": {
      "name": "python3",
      "display_name": "Python 3"
    },
    "language_info": {
      "name": "python"
    }
  },
  "cells": [
    {
      "cell_type": "markdown",
      "metadata": {
        "id": "view-in-github",
        "colab_type": "text"
      },
      "source": [
        "<a href=\"https://colab.research.google.com/github/ramnarayan-code/llm_reflection/blob/main/langgraph_agents.ipynb\" target=\"_parent\"><img src=\"https://colab.research.google.com/assets/colab-badge.svg\" alt=\"Open In Colab\"/></a>"
      ]
    },
    {
      "cell_type": "code",
      "execution_count": 1,
      "metadata": {
        "id": "3RyD2uydP8yR"
      },
      "outputs": [],
      "source": [
        "%%capture --no-stderr\n",
        "%pip install -U langchain langgraph langchain_openai langchain_experimental langsmith pandas"
      ]
    },
    {
      "cell_type": "code",
      "source": [
        "# Ref: https://medium.com/@anuragmishra_27746/future-of-coding-multi-agent-llm-framework-using-langgraph-092da9493663"
      ],
      "metadata": {
        "id": "EPifZZXxtUXY"
      },
      "execution_count": 83,
      "outputs": []
    },
    {
      "cell_type": "code",
      "source": [
        "import os\n",
        "import operator\n",
        "from typing import Annotated, Any, Dict, Optional, Sequence, TypedDict, List, Tuple\n",
        "\n",
        "from langchain_core.pydantic_v1 import BaseModel\n",
        "from langchain_core.prompts import ChatPromptTemplate\n",
        "from langchain_core.pydantic_v1 import BaseModel, Field\n",
        "from langchain_core.messages import HumanMessage\n",
        "from langchain.chains.openai_functions import create_structured_output_runnable\n",
        "from langchain_openai import ChatOpenAI\n",
        "from langgraph.graph import END, StateGraph\n",
        "\n",
        "import os\n",
        "os.environ['OPENAI_API_KEY'] = ''\n",
        "\n",
        "llm=ChatOpenAI()"
      ],
      "metadata": {
        "id": "ua69NCrbZYGV"
      },
      "execution_count": 85,
      "outputs": []
    },
    {
      "cell_type": "code",
      "source": [
        "class ProductOwner(BaseModel):\n",
        "    user_stories: str = Field(\n",
        "        description=\"PO defined user stories\"\n",
        "    )\n",
        "\n",
        "product_owner_prompt = ChatPromptTemplate.from_template(\n",
        "    '''\n",
        "    **Role**: You are a product owner. You need to create user stories\n",
        "**Task**: As a product owner, you are required to create 5 user stories based on the use case\n",
        "\n",
        "**Instructions**:\n",
        "1. **Understand and Clarify**: Make sure you understand the use case\n",
        "2. **Define user story and assign priority**: define user story in the below format following the agile standards\n",
        "*FORMAT*\n",
        "User story:\n",
        "\n",
        "*USE CASE*\n",
        "{use_case}\n",
        "\n",
        "'''\n",
        ")\n",
        "product_owner_agent = create_structured_output_runnable(\n",
        "    ProductOwner, llm, product_owner_prompt\n",
        ")\n"
      ],
      "metadata": {
        "id": "cGI2UOTBbHfV"
      },
      "execution_count": 86,
      "outputs": []
    },
    {
      "cell_type": "code",
      "source": [
        "class Developer(BaseModel):\n",
        "    dev_team_proposal: str = Field(\n",
        "        description=\"Developer proposal for the use case implementation\"\n",
        "    )\n",
        "\n",
        "developer_prompt = ChatPromptTemplate.from_template(\n",
        "    '''\n",
        "    **Role**: You are a developer. You need to assess the user stories\n",
        "**Task**: As a developer, you need to assess the user stories and provide the technical proposal\n",
        "\n",
        "**Instructions**:\n",
        "1. **Understand and Clarify**: Make sure you understand the use case and its related user stories\n",
        "2. **Design the system**: Design a system in the below output format for the use case defining the architecture pattern, defining the components, define the potential technology stack and estimate the efforts\n",
        "*FORMAT*\n",
        "Architecture pattern:\n",
        "Components:\n",
        "Tech Stack:\n",
        "ETA:\n",
        "\n",
        "\n",
        "*USE CASE*\n",
        "{use_case}\n",
        "\n",
        "*USE STORIES*\n",
        "{po_defined_user_stories}\n",
        "'''\n",
        ")\n",
        "developer_agent = create_structured_output_runnable(\n",
        "    Developer, llm, developer_prompt\n",
        ")\n"
      ],
      "metadata": {
        "id": "kTWJfag9rWFb"
      },
      "execution_count": 102,
      "outputs": []
    },
    {
      "cell_type": "code",
      "source": [
        "class AgentState(TypedDict):\n",
        "    use_case: str\n",
        "    po_defined_user_stories: str\n",
        "    dev_team_proposal: str"
      ],
      "metadata": {
        "id": "L-5_Fcd1bMMy"
      },
      "execution_count": 103,
      "outputs": []
    },
    {
      "cell_type": "code",
      "source": [
        "def product_owner(state):\n",
        "    print(f'Product Owner agent:')\n",
        "    use_case = state['use_case']\n",
        "    po_response = product_owner_agent.invoke({'use_case':use_case})\n",
        "    return {'po_defined_user_stories':po_response.user_stories}\n",
        "\n",
        "def developer(state):\n",
        "    print(f'Developer agent:')\n",
        "    po_defined_user_stories = state['po_defined_user_stories']\n",
        "    use_case = state['use_case']\n",
        "    developer_response = developer_agent.invoke({'po_defined_user_stories':po_defined_user_stories, 'use_case':use_case})\n",
        "    return {'dev_team_proposal':developer_response.dev_team_proposal}"
      ],
      "metadata": {
        "id": "RDmx1TTquiFb"
      },
      "execution_count": 104,
      "outputs": []
    },
    {
      "cell_type": "code",
      "source": [
        "workflow = StateGraph(AgentState)\n",
        "\n",
        "# Define the nodes\n",
        "workflow.add_node(\"product_owner\", product_owner)\n",
        "workflow.add_node(\"developer\", developer)\n",
        "\n",
        "# Build graph\n",
        "workflow.set_entry_point(\"product_owner\")\n",
        "workflow.add_edge(\"product_owner\", \"developer\")\n",
        "workflow.add_edge(\"developer\", END)\n",
        "\n",
        "app = workflow.compile()\n"
      ],
      "metadata": {
        "id": "LaiHgjMNbPgN"
      },
      "execution_count": 105,
      "outputs": []
    },
    {
      "cell_type": "code",
      "source": [
        "for stream_msg in app.stream(\n",
        "    {\"use_case\": [HumanMessage(content=\"Design a CRM system using AI\")]},\n",
        "    {\"recursion_limit\": 100},\n",
        "):\n",
        "    if \"__end__\" not in stream_msg:\n",
        "        if \"product_owner\" in stream_msg:\n",
        "          po_defined_user_stories = stream_msg[\"product_owner\"][\"po_defined_user_stories\"]\n",
        "          print(po_defined_user_stories)\n",
        "        elif \"developer\" in stream_msg:\n",
        "          dev_team_proposal = stream_msg[\"developer\"][\"dev_team_proposal\"]\n",
        "          print(dev_team_proposal)\n",
        "        print(\"----\")"
      ],
      "metadata": {
        "id": "nT9OfbZ9wldD",
        "colab": {
          "base_uri": "https://localhost:8080/"
        },
        "outputId": "cc7c9294-b495-436f-dab3-1b36d12d73df"
      },
      "execution_count": 106,
      "outputs": [
        {
          "output_type": "stream",
          "name": "stdout",
          "text": [
            "Product Owner agent:\n",
            "User Story 1:\n",
            "\n",
            "As a sales representative, I want the CRM system to suggest potential leads based on AI analysis so that I can focus on high-quality prospects.\n",
            "\n",
            "User Story 2:\n",
            "\n",
            "As a customer support agent, I want the CRM system to provide insights on customer behavior using AI to enhance personalized interactions.\n",
            "\n",
            "User Story 3:\n",
            "\n",
            "As a marketing manager, I want the CRM system to automate campaign optimization through AI algorithms for better targeting and engagement.\n",
            "\n",
            "User Story 4:\n",
            "\n",
            "As a data analyst, I want the CRM system to generate predictive analytics reports using AI to improve decision-making processes.\n",
            "\n",
            "User Story 5:\n",
            "\n",
            "As a system administrator, I want the CRM system to have AI-powered security features for data protection and privacy compliance.\n",
            "----\n",
            "Developer agent:\n",
            "**Technical Proposal for CRM System Using AI**\n",
            "\n",
            "**Architecture pattern:**\n",
            "\n",
            "The proposed architecture for the CRM system using AI will follow a microservices architecture pattern. This will allow for scalability, flexibility, and ease of maintenance.\n",
            "\n",
            "**Components:**\n",
            "\n",
            "1. Lead Suggestion Service: Uses AI analysis to suggest potential leads for sales representatives.\n",
            "2. Customer Behavior Insights Service: Provides insights on customer behavior for customer support agents.\n",
            "3. Campaign Optimization Service: Automates campaign optimization using AI algorithms for marketing managers.\n",
            "4. Predictive Analytics Service: Generates predictive analytics reports for data analysts.\n",
            "5. Security Service: Implements AI-powered security features for data protection and privacy compliance.\n",
            "\n",
            "**Tech Stack:**\n",
            "\n",
            "- Programming Languages: Python, Java\n",
            "- Frameworks: Flask, Spring Boot\n",
            "- AI/ML Libraries: TensorFlow, scikit-learn\n",
            "- Database: MongoDB\n",
            "- Cloud Services: AWS (Amazon SageMaker, Amazon Rekognition)\n",
            "\n",
            "**ETA:**\n",
            "\n",
            "The estimated time for the development of the CRM system using AI is approximately 6 months with a team of 5 developers working full-time.\n",
            "----\n"
          ]
        }
      ]
    }
  ]
}