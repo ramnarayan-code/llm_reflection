{
  "nbformat": 4,
  "nbformat_minor": 0,
  "metadata": {
    "colab": {
      "provenance": [],
      "authorship_tag": "ABX9TyN2CCsqI+0wvAag7a2V08WL",
      "include_colab_link": true
    },
    "kernelspec": {
      "name": "python3",
      "display_name": "Python 3"
    },
    "language_info": {
      "name": "python"
    }
  },
  "cells": [
    {
      "cell_type": "markdown",
      "metadata": {
        "id": "view-in-github",
        "colab_type": "text"
      },
      "source": [
        "<a href=\"https://colab.research.google.com/github/ramnarayan-code/llm_reflection/blob/main/langgraph_agents.ipynb\" target=\"_parent\"><img src=\"https://colab.research.google.com/assets/colab-badge.svg\" alt=\"Open In Colab\"/></a>"
      ]
    },
    {
      "cell_type": "code",
      "execution_count": 10,
      "metadata": {
        "id": "3RyD2uydP8yR"
      },
      "outputs": [],
      "source": [
        "%%capture --no-stderr\n",
        "%pip install -U langchain langgraph langchain_openai langchain_experimental langsmith pandas"
      ]
    },
    {
      "cell_type": "code",
      "source": [
        "import os\n",
        "os.environ['OPENAI_API_KEY'] = ''\n",
        "print(os.getenv('OPENAI_API_KEY'))\n",
        "# https://medium.com/@anuragmishra_27746/future-of-coding-multi-agent-llm-framework-using-langgraph-092da9493663"
      ],
      "metadata": {
        "colab": {
          "base_uri": "https://localhost:8080/"
        },
        "id": "I2hbwxWDXNNv",
        "outputId": "a5b2394c-8f4c-4a74-e604-e3ffea7daeba"
      },
      "execution_count": 4,
      "outputs": [
        {
          "output_type": "stream",
          "name": "stdout",
          "text": [
            "sk-proj-bbQrZmLH0v98r2IrpHlAT3BlbkFJT8ZsruIC0LvEBGjy7yft\n"
          ]
        }
      ]
    },
    {
      "cell_type": "code",
      "source": [
        "import os\n",
        "from langchain.tools import DuckDuckGoSearchRun\n",
        "from langchain import hub\n",
        "from langchain.agents import create_openai_functions_agent\n",
        "from langchain_openai import AzureChatOpenAI\n",
        "from langgraph.prebuilt import create_agent_executor\n",
        "from langchain_core.pydantic_v1 import BaseModel\n",
        "from langchain.chains.openai_functions import create_structured_output_runnable\n",
        "from langchain_core.prompts import ChatPromptTemplate\n",
        "from langchain_core.pydantic_v1 import BaseModel, Field\n",
        "from typing import Annotated, Any, Dict, Optional, Sequence, TypedDict, List, Tuple\n",
        "import operator\n"
      ],
      "metadata": {
        "id": "ua69NCrbZYGV"
      },
      "execution_count": 18,
      "outputs": []
    },
    {
      "cell_type": "code",
      "source": [
        "llm=ChatOpenAI()"
      ],
      "metadata": {
        "id": "bqgkf739bC9m"
      },
      "execution_count": 27,
      "outputs": []
    },
    {
      "cell_type": "code",
      "source": [
        "from langchain.chains.openai_functions import create_structured_output_runnable\n",
        "from langchain_core.prompts import ChatPromptTemplate\n",
        "\n",
        "class ProductOwner(BaseModel):\n",
        "\n",
        "    user_stories: str = Field(\n",
        "        description=\"Detailed user stories\"\n",
        "    )\n",
        "product_owner_prompt = ChatPromptTemplate.from_template(\n",
        "    '''\n",
        "    **Role**: You are a product owner. You need to create user stories\n",
        "**Task**: As a product owner, you are required to create 5 user stories based on the use case\n",
        "\n",
        "**Instructions**:\n",
        "1. **Understand and Clarify**: Make sure you understand the use case.\n",
        "2. **Define user story and assign priority**: define user story in the below format following the agile standards and assign the priority level out of the values: high, medium, low.\n",
        "*FORMAT*\n",
        "User story:\n",
        "Priority:\n",
        "\n",
        "*USE CASE*\n",
        "{use_case}\n",
        "\n",
        "'''\n",
        ")\n",
        "product_owner_agent = create_structured_output_runnable(\n",
        "    ProductOwner, llm, product_owner_prompt\n",
        ")\n"
      ],
      "metadata": {
        "id": "cGI2UOTBbHfV"
      },
      "execution_count": 36,
      "outputs": []
    },
    {
      "cell_type": "code",
      "source": [
        "user_stories = product_owner_agent.invoke({'use_case':'Design a Video streaming platform'})\n"
      ],
      "metadata": {
        "id": "eRRg9YE6skHg"
      },
      "execution_count": 37,
      "outputs": []
    },
    {
      "cell_type": "code",
      "source": [
        "print(user_stories.user_stories)"
      ],
      "metadata": {
        "colab": {
          "base_uri": "https://localhost:8080/"
        },
        "id": "bId4dfKEtC4K",
        "outputId": "f7d7fb10-5ea9-44f9-ab6a-90e39543a2ca"
      },
      "execution_count": 38,
      "outputs": [
        {
          "output_type": "stream",
          "name": "stdout",
          "text": [
            "User story 1: As a user, I want to be able to create a profile on the video streaming platform.\n",
            "Priority: High\n",
            "\n",
            "User story 2: As a user, I want to be able to search for and discover new videos on the platform.\n",
            "Priority: High\n",
            "\n",
            "User story 3: As a user, I want to be able to create playlists and organize my favorite videos.\n",
            "Priority: Medium\n",
            "\n",
            "User story 4: As a user, I want to receive personalized video recommendations based on my viewing history.\n",
            "Priority: Medium\n",
            "\n",
            "User story 5: As a user, I want to be able to like, comment, and share videos with other users.\n",
            "Priority: High\n"
          ]
        }
      ]
    },
    {
      "cell_type": "code",
      "source": [
        "class Developer(BaseModel):\n",
        "    \"\"\"Plan to follow in future\"\"\"\n",
        "\n",
        "    user_stories_feasibilities: str = Field(\n",
        "        description=\"Detailed optmized error-free Python code on the provided requirements\"\n",
        "    )\n",
        "\n",
        "\n",
        "from langchain.chains.openai_functions import create_structured_output_runnable\n",
        "from langchain_core.prompts import ChatPromptTemplate\n",
        "\n",
        "developer_prompt = ChatPromptTemplate.from_template(\n",
        "    '''\n",
        "    **Role**: You are a developer. You need to assess the user stories\n",
        "**Task**: As a developer, you need to assess the user stories and provide the technical feasibility report\n",
        "\n",
        "**Instructions**:\n",
        "1. **Understand and Clarify**: Make sure you understand the use stories and its respective priority.\n",
        "2. **Define solution and Estimated Time of Arrival**: propose a high level technical solution and estimated time of arrival(ETA) following the below output format.\n",
        "*FORMAT*\n",
        "High level Solution:\n",
        "ETA:\n",
        "\n",
        "*USE STORIES*\n",
        "{user_stories}'''\n",
        ")\n",
        "developer_agent = create_structured_output_runnable(\n",
        "    Developer, llm, developer_prompt\n",
        ")\n"
      ],
      "metadata": {
        "id": "kTWJfag9rWFb"
      },
      "execution_count": 39,
      "outputs": []
    },
    {
      "cell_type": "code",
      "source": [
        "developer_report = developer_agent.invoke({'user_stories':user_stories.user_stories})\n"
      ],
      "metadata": {
        "id": "hE97yCvM0yjt"
      },
      "execution_count": 40,
      "outputs": []
    },
    {
      "cell_type": "code",
      "source": [
        "print(developer_report.user_stories_feasibilities)"
      ],
      "metadata": {
        "id": "Jj3yrbPw0_4L",
        "outputId": "c8020a13-8281-4ed7-8015-0119bf230295",
        "colab": {
          "base_uri": "https://localhost:8080/"
        }
      },
      "execution_count": 41,
      "outputs": [
        {
          "output_type": "stream",
          "name": "stdout",
          "text": [
            "High level Solution:\n",
            "ETA:\n",
            "\n",
            "User story 1: As a user, I want to be able to create a profile on the video streaming platform.\n",
            "Priority: High\n",
            "\n",
            "User story 2: As a user, I want to be able to search for and discover new videos on the platform.\n",
            "Priority: High\n",
            "\n",
            "User story 3: As a user, I want to be able to create playlists and organize my favorite videos.\n",
            "Priority: Medium\n",
            "\n",
            "User story 4: As a user, I want to receive personalized video recommendations based on my viewing history.\n",
            "Priority: Medium\n",
            "\n",
            "User story 5: As a user, I want to be able to like, comment, and share videos with other users.\n",
            "Priority: High\n"
          ]
        }
      ]
    },
    {
      "cell_type": "code",
      "source": [
        "class AgentState(TypedDict):\n",
        "    user_stories: str\n",
        "    user_stories_feasibilities: str"
      ],
      "metadata": {
        "id": "L-5_Fcd1bMMy"
      },
      "execution_count": null,
      "outputs": []
    },
    {
      "cell_type": "code",
      "source": [
        "def product_owner(state):\n",
        "    print(f'Entering PO')\n",
        "    use_case = state['use_case']\n",
        "    po_outcome = product_owner_agent.invoke({'use_case':use_case})\n",
        "    return {'user_stories':po_outcome.user_stories}\n",
        "\n",
        "def developer(state):\n",
        "    print(f'Entering Dev')\n",
        "    user_stories = state['user_stories']\n",
        "    developer_outcome = developer_agent.invoke({'user_stories':user_stories})\n",
        "    return {'user_stories_feasibilities':developer_outcome.user_stories_feasibilities}"
      ],
      "metadata": {
        "id": "RDmx1TTquiFb"
      },
      "execution_count": null,
      "outputs": []
    },
    {
      "cell_type": "code",
      "source": [
        "from langgraph.graph import END, StateGraph\n",
        "\n",
        "workflow = StateGraph(AgentState)\n",
        "\n",
        "# Define the nodes\n",
        "workflow.add_node(\"product_owner\", product_owner)\n",
        "workflow.add_node(\"developer\", developer)\n",
        "\n",
        "# Build graph\n",
        "workflow.set_entry_point(\"product_owner\")\n",
        "workflow.add_edge(\"product_owner\", \"developer\")\n",
        "workflow.add_edge(\"developer\", END)\n",
        "\n",
        "app = workflow.compile()\n"
      ],
      "metadata": {
        "id": "LaiHgjMNbPgN"
      },
      "execution_count": null,
      "outputs": []
    },
    {
      "cell_type": "code",
      "source": [
        "\n",
        "for s in graph.stream(\n",
        "    {\"messages\": [HumanMessage(content=\"Write a brief research report on pikas.\")]},\n",
        "    {\"recursion_limit\": 100},\n",
        "):\n",
        "    if \"__end__\" not in s:\n",
        "        print(s)\n",
        "        print(\"----\")"
      ],
      "metadata": {
        "id": "nT9OfbZ9wldD"
      },
      "execution_count": null,
      "outputs": []
    }
  ]
}